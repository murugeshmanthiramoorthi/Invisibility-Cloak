{
 "cells": [
  {
   "cell_type": "code",
   "execution_count": null,
   "metadata": {},
   "outputs": [],
   "source": [
    "# pip install opencv-python"
   ]
  },
  {
   "cell_type": "code",
   "execution_count": 2,
   "metadata": {},
   "outputs": [],
   "source": [
    "import cv2\n",
    "import numpy as np\n",
    "import time"
   ]
  },
  {
   "cell_type": "code",
   "execution_count": null,
   "metadata": {},
   "outputs": [],
   "source": [
    "cap = cv2.VideoCapture(0)\n",
    "time.sleep(3)\n",
    "background=0\n",
    "for i in range(30):\n",
    "    ret,background = cap.read()\n",
    "\n",
    "background = np.flip(background,axis=1)\n",
    "\n",
    "while(cap.isOpened()):\n",
    "    ret, img = cap.read()\n",
    "    \n",
    "    # Flipping the image (Can be uncommented if needed)\n",
    "    img = np.flip(img,axis=1)\n",
    "    \n",
    "    # Converting image to HSV color space.\n",
    "    hsv = cv2.cvtColor(img, cv2.COLOR_BGR2HSV)\n",
    "    value = (35, 35)\n",
    "    \n",
    "    blurred = cv2.GaussianBlur(hsv, value,0)\n",
    "    \n",
    "    # Defining lower range for red color detection.\n",
    "    lower_red = np.array([110,50,50])\n",
    "    upper_red = np.array([120,255,255])\n",
    "    mask1 = cv2.inRange(hsv,lower_red,upper_red)\n",
    "    \n",
    "    # Defining upper range for red color detection\n",
    "    lower_red = np.array([120,50,50])\n",
    "    upper_red = np.array([130,255,255])\n",
    "    mask2 = cv2.inRange(hsv,lower_red,upper_red)\n",
    "    \n",
    "    # Addition of the two masks to generate the final mask.\n",
    "    mask = mask1+mask2\n",
    "    mask = cv2.morphologyEx(mask, cv2.MORPH_OPEN, np.ones((5,5),np.uint8))\n",
    "    \n",
    "    # Replacing pixels corresponding to cloak with the background pixels.\n",
    "    img[np.where(mask==255)] = background[np.where(mask==255)]\n",
    "    cv2.imshow('Display',img)\n",
    "    k = cv2.waitKey(10)\n",
    "    if k == 27:\n",
    "        break"
   ]
  },
  {
   "cell_type": "code",
   "execution_count": null,
   "metadata": {},
   "outputs": [],
   "source": [
    "import numpy as np \n",
    "import cv2 \n",
    "\n",
    "videoFeed = cv2.VideoCapture(0) \n",
    "while (True): \n",
    "    ret, frame = videoFeed.read()\n",
    "    if ret == False:\n",
    "        print(\"Failed to retrieve frame\")\n",
    "        break \n",
    "    frame_gray = cv2.cvtColor(frame, cv2.COLOR_BGR2GRAY) \n",
    "    cv2.imshow('Feed', frame_gray) \n",
    "    if cv2.waitKey(10) & 0xFF == ord(\"q\"): \n",
    "        break \n",
    "videoFeed.release() \n",
    "cv2.destroyAllWindows() "
   ]
  }
 ],
 "metadata": {
  "kernelspec": {
   "display_name": "Python 3",
   "language": "python",
   "name": "python3"
  },
  "language_info": {
   "codemirror_mode": {
    "name": "ipython",
    "version": 3
   },
   "file_extension": ".py",
   "mimetype": "text/x-python",
   "name": "python",
   "nbconvert_exporter": "python",
   "pygments_lexer": "ipython3",
   "version": "3.7.3"
  }
 },
 "nbformat": 4,
 "nbformat_minor": 2
}
